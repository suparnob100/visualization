{
 "cells": [
  {
   "cell_type": "code",
   "execution_count": 1,
   "metadata": {},
   "outputs": [],
   "source": [
    "%matplotlib inline\n"
   ]
  },
  {
   "cell_type": "code",
   "execution_count": 2,
   "metadata": {},
   "outputs": [],
   "source": [
    "import matplotlib.pyplot as plt\n",
    "from matplotlib.figure import Figure\n",
    "import os\n",
    "from scipy.io import savemat\n",
    "\n",
    "class CustomAxes(plt.Axes):\n",
    "    def __init__(self, *args, **kwargs):\n",
    "        super().__init__(*args, **kwargs)\n",
    "        self._stored_data = []\n",
    "\n",
    "    def _save_data(self):\n",
    "        # Define the folder and filename for saving\n",
    "        data_folder = 'plot_data'\n",
    "        os.makedirs(data_folder, exist_ok=True)\n",
    "        filename = f\"plot_data_{len(os.listdir(data_folder))}.mat\"\n",
    "        filepath = os.path.join(data_folder, filename)\n",
    "\n",
    "        # Prepare the data for savemat\n",
    "        mat_data = {f'data_{i}': {'type': plot_type, 'args': args, 'kwargs': kwargs} \n",
    "                    for i, (plot_type, args, kwargs) in enumerate(self._stored_data)}\n",
    "\n",
    "        # Save the data as a .mat file\n",
    "        savemat(filepath, mat_data)\n",
    "\n",
    "    def plot(self, *args, **kwargs):\n",
    "        self._stored_data.append(('plot', args, kwargs))\n",
    "        self._save_data()  # Auto-save data when plotting\n",
    "        return super().plot(*args, **kwargs)\n",
    "\n",
    "    def scatter(self, *args, **kwargs):\n",
    "        self._stored_data.append(('scatter', args, kwargs))\n",
    "        self._save_data()  # Auto-save data when plotting\n",
    "        return super().scatter(*args, **kwargs)\n",
    "\n",
    "    def bar(self, *args, **kwargs):\n",
    "        self._stored_data.append(('bar', args, kwargs))\n",
    "        self._save_data()  # Auto-save data when plotting\n",
    "        return super().bar(*args, **kwargs)\n",
    "\n",
    "    # Other plotting methods can be overridden similarly\n",
    "\n",
    "class ExtendedFigure(Figure):\n",
    "    def __init__(self, *args, **kwargs):\n",
    "        super().__init__(*args, **kwargs)\n",
    "\n",
    "    def add_subplot(self, *args, **kwargs):\n",
    "        ax = super().add_subplot(*args, **kwargs, axes_class=CustomAxes)\n",
    "        return ax\n",
    "\n",
    "# Example usage\n",
    "fig = ExtendedFigure()\n",
    "ax = fig.add_subplot(1, 1, 1)\n",
    "ax.plot([1, 2, 3, 4], [10, 20, 30, 40], 'ro-')  # This will automatically save the data\n",
    "ax.scatter([1, 2, 3, 4], [40, 30, 20, 10])      # This will automatically save the data\n",
    "ax.bar([1, 2, 3, 4], [10, 20, 30, 40])          # This will automatically save the data\n",
    "\n",
    "plt.show()\n"
   ]
  },
  {
   "cell_type": "code",
   "execution_count": 3,
   "metadata": {},
   "outputs": [
    {
     "data": {
      "image/png": "[encoded data removed]",
      "text/plain": [
       "<ExtendedFigure size 640x480 with 1 Axes>"
      ]
     },
     "execution_count": 3,
     "metadata": {},
     "output_type": "execute_result"
    }
   ],
   "source": [
    "fig"
   ]
  },
  {
   "cell_type": "code",
   "execution_count": null,
   "metadata": {},
   "outputs": [],
   "source": []
  }
 ],
 "metadata": {
  "kernelspec": {
   "display_name": "base",
   "language": "python",
   "name": "python3"
  },
  "language_info": {
   "codemirror_mode": {
    "name": "ipython",
    "version": 3
   },
   "file_extension": ".py",
   "mimetype": "text/x-python",
   "name": "python",
   "nbconvert_exporter": "python",
   "pygments_lexer": "ipython3",
   "version": "3.9.13"
  }
 },
 "nbformat": 4,
 "nbformat_minor": 2
}
