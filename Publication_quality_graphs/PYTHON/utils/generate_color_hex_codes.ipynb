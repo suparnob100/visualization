{
 "cells": [
  {
   "cell_type": "code",
   "execution_count": null,
   "metadata": {},
   "outputs": [],
   "source": [
    "# Extract colors from 'magma' colormap\n",
    "colors_magma = plt.cm.viridis(np.linspace(0, 1, 10))\n",
    "\n",
    "# Convert to hexadecimal\n",
    "colors_magma_hex = [''.join([f'{int(c*255):02x}' for c in color[:3]]) for color in colors_magma]\n",
    "print(colors_magma_hex)"
   ]
  }
 ],
 "metadata": {
  "language_info": {
   "name": "python"
  }
 },
 "nbformat": 4,
 "nbformat_minor": 2
}
