{
 "cells": [
  {
   "cell_type": "code",
   "execution_count": 122,
   "metadata": {},
   "outputs": [],
   "source": [
    "from scipy.io import loadmat"
   ]
  },
  {
   "cell_type": "code",
   "execution_count": 123,
   "metadata": {},
   "outputs": [
    {
     "data": {
      "text/plain": [
       "dict"
      ]
     },
     "execution_count": 123,
     "metadata": {},
     "output_type": "execute_result"
    }
   ],
   "source": [
    "# Load the data file\n",
    "file_name = 'sc'  # Replace with your file name\n",
    "fig_contents = loadmat(file_name+'.fig')\n",
    "type(fig_contents)"
   ]
  },
  {
   "cell_type": "code",
   "execution_count": 124,
   "metadata": {},
   "outputs": [],
   "source": [
    "# Save using pickle\n",
    "with open('my_dict.pkl', 'wb') as file:\n",
    "    pickle.dump(fig_contents, file)\n",
    "    joblib.dump(my_dict, 'my_dict.joblib')\n"
   ]
  },
  {
   "cell_type": "code",
   "execution_count": 125,
   "metadata": {},
   "outputs": [],
   "source": [
    "# Accessing the specific key 'hgS_070000' in the figure contents\n",
    "hgS_contents = fig_contents['hgS_070000']"
   ]
  },
  {
   "cell_type": "code",
   "execution_count": 126,
   "metadata": {},
   "outputs": [],
   "source": [
    "# Accessing the first 'children' element in 'hgS_contents'\n",
    "children_contents = hgS_contents['children'][0, 0]\n",
    "# print(children_contents)"
   ]
  },
  {
   "cell_type": "code",
   "execution_count": 127,
   "metadata": {},
   "outputs": [
    {
     "data": {
      "text/plain": [
       "5"
      ]
     },
     "execution_count": 127,
     "metadata": {},
     "output_type": "execute_result"
    }
   ],
   "source": [
    "# Accessing the nested 'children' element in 'children_contents'\n",
    "children_of_children = children_contents['children'][0, 0]\n",
    "len(children_of_children)\n",
    "# print(children_of_children)"
   ]
  },
  {
   "cell_type": "code",
   "execution_count": 128,
   "metadata": {},
   "outputs": [],
   "source": [
    "# Extracting the types of each child in 'children_of_children'\n",
    "child_types = [child['type'][0] for child in children_of_children]\n",
    "# print(child_types)\n"
   ]
  },
  {
   "cell_type": "code",
   "execution_count": 129,
   "metadata": {},
   "outputs": [],
   "source": [
    "# children_of_children[0]['properties'][0][0][0][5]#['Data'][0][0]"
   ]
  },
  {
   "cell_type": "code",
   "execution_count": 130,
   "metadata": {},
   "outputs": [],
   "source": [
    "# Initializing a list to hold structured data including color\n",
    "structured_data_with_color = []\n",
    "\n",
    "# Iterating over each child in 'children_of_children'\n",
    "for child in children_of_children:\n",
    "    properties = child['properties'][0]\n",
    "\n",
    "    # Checking for 'XData' and 'YData' in the properties of the child\n",
    "    if 'XData' in properties.dtype.names and 'YData' in properties.dtype.names:\n",
    "        x_data = properties['XData'][0][0]\n",
    "        y_data = properties['YData'][0][0]\n",
    "        # z_data = properties['ZData'][0][0]\n",
    "\n",
    "\n",
    "        # Extracting 'Color' from properties if available\n",
    "        color = properties['Color'][0] if 'Color' in properties.dtype.names else None\n",
    "\n",
    "        # Appending structured data to the list\n",
    "        structured_data_with_color.append({\n",
    "            \"XData\": x_data,\n",
    "            \"YData\": y_data,\n",
    "            \"Color\": color\n",
    "        })\n",
    "\n",
    "    elif 'Data' in properties.dtype.names:\n",
    "\n",
    "        histogram_data = properties['Data'][0][0]\n",
    "\n",
    "        # Extracting 'Color' from properties if available\n",
    "        # color = properties['Color'][0] if 'Color' in properties.dtype.names else None\n",
    "\n",
    "        # Appending structured data to the list\n",
    "        structured_data_with_color.append({\n",
    "            \"Data\": histogram_data,\n",
    "        })\n"
   ]
  },
  {
   "cell_type": "code",
   "execution_count": 131,
   "metadata": {},
   "outputs": [
    {
     "name": "stdout",
     "output_type": "stream",
     "text": [
      "length of structured_data_with_color: 1\n",
      "[[150 155 160 165 170 175 180 185]]\n",
      "[[50 55 60 65 70 75 80 85]]\n"
     ]
    }
   ],
   "source": [
    "print(f\"length of structured_data_with_color: {len(structured_data_with_color)}\")\n",
    "print(structured_data_with_color[0]['XData'])\n",
    "print(structured_data_with_color[0]['YData'])\n",
    "# print(structured_data_with_color[0]['Data'])"
   ]
  }
 ],
 "metadata": {
  "kernelspec": {
   "display_name": "base",
   "language": "python",
   "name": "python3"
  },
  "language_info": {
   "codemirror_mode": {
    "name": "ipython",
    "version": 3
   },
   "file_extension": ".py",
   "mimetype": "text/x-python",
   "name": "python",
   "nbconvert_exporter": "python",
   "pygments_lexer": "ipython3",
   "version": "3.9.13"
  }
 },
 "nbformat": 4,
 "nbformat_minor": 2
}
